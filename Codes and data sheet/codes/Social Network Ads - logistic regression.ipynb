{
 "cells": [
  {
   "cell_type": "markdown",
   "id": "00ca84fd",
   "metadata": {},
   "source": [
    "Given a social network ads dataset that contains UserID, Gender, Age, Estimated Salary and Purchase columns(the dependent variable). This project aims to predict if a user will purchase an item or not — the effectiveness of the ad on different demographic groups. \n",
    "Logistic regression algorithm was used for the building the classification model."
   ]
  },
  {
   "cell_type": "markdown",
   "id": "elect-stewart",
   "metadata": {},
   "source": [
    "Importing libraries "
   ]
  },
  {
   "cell_type": "code",
   "execution_count": 1,
   "id": "varied-compression",
   "metadata": {},
   "outputs": [],
   "source": [
    "import numpy as np\n",
    "import matplotlib.pyplot as plt\n",
    "import pandas as pd"
   ]
  },
  {
   "cell_type": "markdown",
   "id": "packed-browse",
   "metadata": {},
   "source": [
    "Importing the dataset"
   ]
  },
  {
   "cell_type": "code",
   "execution_count": 2,
   "id": "frequent-event",
   "metadata": {},
   "outputs": [],
   "source": [
    "dataset = pd.read_csv('../assets/Social_Network_Ads.csv')"
   ]
  },
  {
   "cell_type": "markdown",
   "id": "technological-tobacco",
   "metadata": {},
   "source": [
    "# Understanding the dataset"
   ]
  },
  {
   "cell_type": "code",
   "execution_count": 3,
   "id": "literary-capacity",
   "metadata": {},
   "outputs": [
    {
     "data": {
      "text/html": [
       "<div>\n",
       "<style scoped>\n",
       "    .dataframe tbody tr th:only-of-type {\n",
       "        vertical-align: middle;\n",
       "    }\n",
       "\n",
       "    .dataframe tbody tr th {\n",
       "        vertical-align: top;\n",
       "    }\n",
       "\n",
       "    .dataframe thead th {\n",
       "        text-align: right;\n",
       "    }\n",
       "</style>\n",
       "<table border=\"1\" class=\"dataframe\">\n",
       "  <thead>\n",
       "    <tr style=\"text-align: right;\">\n",
       "      <th></th>\n",
       "      <th>User ID</th>\n",
       "      <th>Gender</th>\n",
       "      <th>Age</th>\n",
       "      <th>EstimatedSalary</th>\n",
       "      <th>Purchased</th>\n",
       "    </tr>\n",
       "  </thead>\n",
       "  <tbody>\n",
       "    <tr>\n",
       "      <th>0</th>\n",
       "      <td>15624510</td>\n",
       "      <td>Male</td>\n",
       "      <td>26</td>\n",
       "      <td>24000</td>\n",
       "      <td>1</td>\n",
       "    </tr>\n",
       "    <tr>\n",
       "      <th>1</th>\n",
       "      <td>15810944</td>\n",
       "      <td>Male</td>\n",
       "      <td>45</td>\n",
       "      <td>30000</td>\n",
       "      <td>0</td>\n",
       "    </tr>\n",
       "    <tr>\n",
       "      <th>2</th>\n",
       "      <td>15668575</td>\n",
       "      <td>Female</td>\n",
       "      <td>26</td>\n",
       "      <td>43000</td>\n",
       "      <td>0</td>\n",
       "    </tr>\n",
       "    <tr>\n",
       "      <th>3</th>\n",
       "      <td>15603246</td>\n",
       "      <td>Female</td>\n",
       "      <td>27</td>\n",
       "      <td>57000</td>\n",
       "      <td>1</td>\n",
       "    </tr>\n",
       "    <tr>\n",
       "      <th>4</th>\n",
       "      <td>15804002</td>\n",
       "      <td>Female</td>\n",
       "      <td>29</td>\n",
       "      <td>89000</td>\n",
       "      <td>0</td>\n",
       "    </tr>\n",
       "  </tbody>\n",
       "</table>\n",
       "</div>"
      ],
      "text/plain": [
       "    User ID  Gender  Age  EstimatedSalary  Purchased\n",
       "0  15624510    Male   26            24000          1\n",
       "1  15810944    Male   45            30000          0\n",
       "2  15668575  Female   26            43000          0\n",
       "3  15603246  Female   27            57000          1\n",
       "4  15804002  Female   29            89000          0"
      ]
     },
     "execution_count": 3,
     "metadata": {},
     "output_type": "execute_result"
    }
   ],
   "source": [
    "dataset.head()"
   ]
  },
  {
   "cell_type": "code",
   "execution_count": 4,
   "id": "collectible-establishment",
   "metadata": {},
   "outputs": [
    {
     "data": {
      "text/plain": [
       "<bound method DataFrame.info of       User ID  Gender  Age  EstimatedSalary  Purchased\n",
       "0    15624510    Male   26            24000          1\n",
       "1    15810944    Male   45            30000          0\n",
       "2    15668575  Female   26            43000          0\n",
       "3    15603246  Female   27            57000          1\n",
       "4    15804002  Female   29            89000          0\n",
       "..        ...     ...  ...              ...        ...\n",
       "395  15691863  Female   46            41000          1\n",
       "396  15706071    Male   51            23000          1\n",
       "397  15654296  Female   50            20000          1\n",
       "398  15755018    Male   37            31000          0\n",
       "399  15594041  Female   49            36000          1\n",
       "\n",
       "[400 rows x 5 columns]>"
      ]
     },
     "execution_count": 4,
     "metadata": {},
     "output_type": "execute_result"
    }
   ],
   "source": [
    "dataset.info"
   ]
  },
  {
   "cell_type": "markdown",
   "id": "permanent-victoria",
   "metadata": {},
   "source": [
    "# Independent variables (X)\n",
    "\n",
    "The independent variables or features in this exercise will be the Age and EstimatedSalary columns. \n",
    "These columns contains the age and estimated salary information of that particular customer.\n"
   ]
  },
  {
   "cell_type": "code",
   "execution_count": 5,
   "id": "turkish-heavy",
   "metadata": {},
   "outputs": [
    {
     "data": {
      "text/plain": [
       "array([[    26,  24000],\n",
       "       [    45,  30000],\n",
       "       [    26,  43000],\n",
       "       [    27,  57000],\n",
       "       [    29,  89000],\n",
       "       [    27,  58000],\n",
       "       [    27,  84000],\n",
       "       [    32, 150000],\n",
       "       [    25,  33000],\n",
       "       [    35,  65000],\n",
       "       [    26,  80000],\n",
       "       [    26,  52000],\n",
       "       [    20,  86000],\n",
       "       [    32,  18000],\n",
       "       [    18,  82000],\n",
       "       [    29,  80000],\n",
       "       [    47,  25000],\n",
       "       [    45,  26000],\n",
       "       [    46,  28000],\n",
       "       [    48,  29000],\n",
       "       [    45,  22000],\n",
       "       [    47,  49000],\n",
       "       [    48,  41000],\n",
       "       [    45,  22000],\n",
       "       [    46,  23000],\n",
       "       [    47,  20000],\n",
       "       [    49,  28000],\n",
       "       [    47,  30000],\n",
       "       [    29,  43000],\n",
       "       [    31,  18000],\n",
       "       [    31,  74000],\n",
       "       [    27, 137000],\n",
       "       [    21,  16000],\n",
       "       [    28,  44000],\n",
       "       [    27,  90000],\n",
       "       [    35,  27000],\n",
       "       [    33,  28000],\n",
       "       [    30,  49000],\n",
       "       [    26,  72000],\n",
       "       [    27,  31000],\n",
       "       [    27,  17000],\n",
       "       [    33,  51000],\n",
       "       [    35, 108000],\n",
       "       [    30,  15000],\n",
       "       [    28,  84000],\n",
       "       [    23,  20000],\n",
       "       [    25,  79000],\n",
       "       [    27,  54000],\n",
       "       [    30, 135000],\n",
       "       [    31,  89000],\n",
       "       [    24,  32000],\n",
       "       [    18,  44000],\n",
       "       [    29,  83000],\n",
       "       [    35,  23000],\n",
       "       [    27,  58000],\n",
       "       [    24,  55000],\n",
       "       [    23,  48000],\n",
       "       [    28,  79000],\n",
       "       [    22,  18000],\n",
       "       [    32, 117000],\n",
       "       [    27,  20000],\n",
       "       [    25,  87000],\n",
       "       [    23,  66000],\n",
       "       [    32, 120000],\n",
       "       [    59,  83000],\n",
       "       [    24,  58000],\n",
       "       [    24,  19000],\n",
       "       [    23,  82000],\n",
       "       [    22,  63000],\n",
       "       [    31,  68000],\n",
       "       [    25,  80000],\n",
       "       [    24,  27000],\n",
       "       [    20,  23000],\n",
       "       [    33, 113000],\n",
       "       [    32,  18000],\n",
       "       [    34, 112000],\n",
       "       [    18,  52000],\n",
       "       [    22,  27000],\n",
       "       [    28,  87000],\n",
       "       [    26,  17000],\n",
       "       [    30,  80000],\n",
       "       [    39,  42000],\n",
       "       [    20,  49000],\n",
       "       [    35,  88000],\n",
       "       [    30,  62000],\n",
       "       [    31, 118000],\n",
       "       [    24,  55000],\n",
       "       [    28,  85000],\n",
       "       [    26,  81000],\n",
       "       [    35,  50000],\n",
       "       [    22,  81000],\n",
       "       [    30, 116000],\n",
       "       [    26,  15000],\n",
       "       [    29,  28000],\n",
       "       [    29,  83000],\n",
       "       [    35,  44000],\n",
       "       [    35,  25000],\n",
       "       [    28, 123000],\n",
       "       [    35,  73000],\n",
       "       [    28,  37000],\n",
       "       [    27,  88000],\n",
       "       [    28,  59000],\n",
       "       [    32,  86000],\n",
       "       [    33, 149000],\n",
       "       [    19,  21000],\n",
       "       [    21,  72000],\n",
       "       [    26,  35000],\n",
       "       [    27,  89000],\n",
       "       [    26,  86000],\n",
       "       [    38,  80000],\n",
       "       [    39,  71000],\n",
       "       [    37,  71000],\n",
       "       [    38,  61000],\n",
       "       [    37,  55000],\n",
       "       [    42,  80000],\n",
       "       [    40,  57000],\n",
       "       [    35,  75000],\n",
       "       [    36,  52000],\n",
       "       [    40,  59000],\n",
       "       [    41,  59000],\n",
       "       [    36,  75000],\n",
       "       [    37,  72000],\n",
       "       [    40,  75000],\n",
       "       [    35,  53000],\n",
       "       [    41,  51000],\n",
       "       [    39,  61000],\n",
       "       [    42,  65000],\n",
       "       [    26,  32000],\n",
       "       [    30,  17000],\n",
       "       [    26,  84000],\n",
       "       [    31,  58000],\n",
       "       [    33,  31000],\n",
       "       [    30,  87000],\n",
       "       [    21,  68000],\n",
       "       [    28,  55000],\n",
       "       [    23,  63000],\n",
       "       [    20,  82000],\n",
       "       [    30, 107000],\n",
       "       [    28,  59000],\n",
       "       [    19,  25000],\n",
       "       [    19,  85000],\n",
       "       [    18,  68000],\n",
       "       [    35,  59000],\n",
       "       [    30,  89000],\n",
       "       [    34,  25000],\n",
       "       [    24,  89000],\n",
       "       [    27,  96000],\n",
       "       [    41,  30000],\n",
       "       [    29,  61000],\n",
       "       [    20,  74000],\n",
       "       [    26,  15000],\n",
       "       [    41,  45000],\n",
       "       [    31,  76000],\n",
       "       [    36,  50000],\n",
       "       [    40,  47000],\n",
       "       [    31,  15000],\n",
       "       [    46,  59000],\n",
       "       [    29,  75000],\n",
       "       [    26,  30000],\n",
       "       [    32, 135000],\n",
       "       [    32, 100000],\n",
       "       [    25,  90000],\n",
       "       [    37,  33000],\n",
       "       [    35,  38000],\n",
       "       [    33,  69000],\n",
       "       [    18,  86000],\n",
       "       [    22,  55000],\n",
       "       [    35,  71000],\n",
       "       [    29, 148000],\n",
       "       [    29,  47000],\n",
       "       [    21,  88000],\n",
       "       [    34, 115000],\n",
       "       [    26, 118000],\n",
       "       [    34,  43000],\n",
       "       [    34,  72000],\n",
       "       [    23,  28000],\n",
       "       [    35,  47000],\n",
       "       [    25,  22000],\n",
       "       [    24,  23000],\n",
       "       [    31,  34000],\n",
       "       [    26,  16000],\n",
       "       [    31,  71000],\n",
       "       [    32, 117000],\n",
       "       [    33,  43000],\n",
       "       [    33,  60000],\n",
       "       [    31,  66000],\n",
       "       [    20,  82000],\n",
       "       [    33,  41000],\n",
       "       [    35,  72000],\n",
       "       [    28,  32000],\n",
       "       [    24,  84000],\n",
       "       [    19,  26000],\n",
       "       [    29,  43000],\n",
       "       [    19,  70000],\n",
       "       [    28,  89000],\n",
       "       [    34,  43000],\n",
       "       [    30,  79000],\n",
       "       [    20,  36000],\n",
       "       [    26,  80000],\n",
       "       [    35,  22000],\n",
       "       [    35,  39000],\n",
       "       [    49,  74000],\n",
       "       [    39, 134000],\n",
       "       [    41,  71000],\n",
       "       [    58, 101000],\n",
       "       [    47,  47000],\n",
       "       [    55, 130000],\n",
       "       [    52, 114000],\n",
       "       [    40, 142000],\n",
       "       [    46,  22000],\n",
       "       [    48,  96000],\n",
       "       [    52, 150000],\n",
       "       [    59,  42000],\n",
       "       [    35,  58000],\n",
       "       [    47,  43000],\n",
       "       [    60, 108000],\n",
       "       [    49,  65000],\n",
       "       [    40,  78000],\n",
       "       [    46,  96000],\n",
       "       [    59, 143000],\n",
       "       [    41,  80000],\n",
       "       [    35,  91000],\n",
       "       [    37, 144000],\n",
       "       [    60, 102000],\n",
       "       [    35,  60000],\n",
       "       [    37,  53000],\n",
       "       [    36, 126000],\n",
       "       [    56, 133000],\n",
       "       [    40,  72000],\n",
       "       [    42,  80000],\n",
       "       [    35, 147000],\n",
       "       [    39,  42000],\n",
       "       [    40, 107000],\n",
       "       [    49,  86000],\n",
       "       [    38, 112000],\n",
       "       [    46,  79000],\n",
       "       [    40,  57000],\n",
       "       [    37,  80000],\n",
       "       [    46,  82000],\n",
       "       [    53, 143000],\n",
       "       [    42, 149000],\n",
       "       [    38,  59000],\n",
       "       [    50,  88000],\n",
       "       [    56, 104000],\n",
       "       [    41,  72000],\n",
       "       [    51, 146000],\n",
       "       [    35,  50000],\n",
       "       [    57, 122000],\n",
       "       [    41,  52000],\n",
       "       [    35,  97000],\n",
       "       [    44,  39000],\n",
       "       [    37,  52000],\n",
       "       [    48, 134000],\n",
       "       [    37, 146000],\n",
       "       [    50,  44000],\n",
       "       [    52,  90000],\n",
       "       [    41,  72000],\n",
       "       [    40,  57000],\n",
       "       [    58,  95000],\n",
       "       [    45, 131000],\n",
       "       [    35,  77000],\n",
       "       [    36, 144000],\n",
       "       [    55, 125000],\n",
       "       [    35,  72000],\n",
       "       [    48,  90000],\n",
       "       [    42, 108000],\n",
       "       [    40,  75000],\n",
       "       [    37,  74000],\n",
       "       [    47, 144000],\n",
       "       [    40,  61000],\n",
       "       [    43, 133000],\n",
       "       [    59,  76000],\n",
       "       [    60,  42000],\n",
       "       [    39, 106000],\n",
       "       [    57,  26000],\n",
       "       [    57,  74000],\n",
       "       [    38,  71000],\n",
       "       [    49,  88000],\n",
       "       [    52,  38000],\n",
       "       [    50,  36000],\n",
       "       [    59,  88000],\n",
       "       [    35,  61000],\n",
       "       [    37,  70000],\n",
       "       [    52,  21000],\n",
       "       [    48, 141000],\n",
       "       [    37,  93000],\n",
       "       [    37,  62000],\n",
       "       [    48, 138000],\n",
       "       [    41,  79000],\n",
       "       [    37,  78000],\n",
       "       [    39, 134000],\n",
       "       [    49,  89000],\n",
       "       [    55,  39000],\n",
       "       [    37,  77000],\n",
       "       [    35,  57000],\n",
       "       [    36,  63000],\n",
       "       [    42,  73000],\n",
       "       [    43, 112000],\n",
       "       [    45,  79000],\n",
       "       [    46, 117000],\n",
       "       [    58,  38000],\n",
       "       [    48,  74000],\n",
       "       [    37, 137000],\n",
       "       [    37,  79000],\n",
       "       [    40,  60000],\n",
       "       [    42,  54000],\n",
       "       [    51, 134000],\n",
       "       [    47, 113000],\n",
       "       [    36, 125000],\n",
       "       [    38,  50000],\n",
       "       [    42,  70000],\n",
       "       [    39,  96000],\n",
       "       [    38,  50000],\n",
       "       [    49, 141000],\n",
       "       [    39,  79000],\n",
       "       [    39,  75000],\n",
       "       [    54, 104000],\n",
       "       [    35,  55000],\n",
       "       [    45,  32000],\n",
       "       [    36,  60000],\n",
       "       [    52, 138000],\n",
       "       [    53,  82000],\n",
       "       [    41,  52000],\n",
       "       [    48,  30000],\n",
       "       [    48, 131000],\n",
       "       [    41,  60000],\n",
       "       [    41,  72000],\n",
       "       [    42,  75000],\n",
       "       [    36, 118000],\n",
       "       [    47, 107000],\n",
       "       [    38,  51000],\n",
       "       [    48, 119000],\n",
       "       [    42,  65000],\n",
       "       [    40,  65000],\n",
       "       [    57,  60000],\n",
       "       [    36,  54000],\n",
       "       [    58, 144000],\n",
       "       [    35,  79000],\n",
       "       [    38,  55000],\n",
       "       [    39, 122000],\n",
       "       [    53, 104000],\n",
       "       [    35,  75000],\n",
       "       [    38,  65000],\n",
       "       [    47,  51000],\n",
       "       [    47, 105000],\n",
       "       [    41,  63000],\n",
       "       [    53,  72000],\n",
       "       [    54, 108000],\n",
       "       [    39,  77000],\n",
       "       [    38,  61000],\n",
       "       [    38, 113000],\n",
       "       [    37,  75000],\n",
       "       [    42,  90000],\n",
       "       [    37,  57000],\n",
       "       [    36,  99000],\n",
       "       [    60,  34000],\n",
       "       [    54,  70000],\n",
       "       [    41,  72000],\n",
       "       [    40,  71000],\n",
       "       [    42,  54000],\n",
       "       [    43, 129000],\n",
       "       [    53,  34000],\n",
       "       [    47,  50000],\n",
       "       [    42,  79000],\n",
       "       [    42, 104000],\n",
       "       [    59,  29000],\n",
       "       [    58,  47000],\n",
       "       [    46,  88000],\n",
       "       [    38,  71000],\n",
       "       [    54,  26000],\n",
       "       [    60,  46000],\n",
       "       [    60,  83000],\n",
       "       [    39,  73000],\n",
       "       [    59, 130000],\n",
       "       [    37,  80000],\n",
       "       [    47,  30000],\n",
       "       [    46,  74000],\n",
       "       [    42,  53000],\n",
       "       [    41,  87000],\n",
       "       [    58,  23000],\n",
       "       [    42,  64000],\n",
       "       [    48,  33000],\n",
       "       [    44, 139000],\n",
       "       [    49,  28000],\n",
       "       [    57,  33000],\n",
       "       [    56,  60000],\n",
       "       [    49,  39000],\n",
       "       [    39,  71000],\n",
       "       [    47,  34000],\n",
       "       [    48,  35000],\n",
       "       [    48,  33000],\n",
       "       [    47,  23000],\n",
       "       [    45,  45000],\n",
       "       [    60,  42000],\n",
       "       [    39,  59000],\n",
       "       [    46,  41000],\n",
       "       [    51,  23000],\n",
       "       [    50,  20000],\n",
       "       [    37,  31000],\n",
       "       [    49,  36000]], dtype=int64)"
      ]
     },
     "execution_count": 5,
     "metadata": {},
     "output_type": "execute_result"
    }
   ],
   "source": [
    "\n",
    "\n",
    "X = dataset.iloc[:, 2:4].values\n",
    "X"
   ]
  },
  {
   "cell_type": "markdown",
   "id": "standard-camel",
   "metadata": {},
   "source": [
    "# Dependent variable (y)\n",
    "\n",
    "The labels or dependent variable is the column Purchased. \n",
    "\n",
    "0 -- means that that customer did NOT purchase the said item\n",
    "\n",
    "1 -- while means that that customer purchased the said item\n"
   ]
  },
  {
   "cell_type": "code",
   "execution_count": 6,
   "id": "english-paintball",
   "metadata": {},
   "outputs": [
    {
     "data": {
      "text/plain": [
       "array([1, 0, 0, 1, 0, 1, 0, 1, 0, 1, 0, 0, 1, 0, 1, 0, 1, 0, 1, 1, 1, 0,\n",
       "       1, 1, 1, 0, 1, 1, 0, 1, 0, 1, 0, 1, 0, 1, 0, 0, 0, 1, 0, 1, 0, 1,\n",
       "       0, 0, 1, 0, 1, 0, 0, 0, 0, 0, 0, 0, 0, 0, 0, 0, 0, 0, 0, 1, 0, 0,\n",
       "       0, 0, 0, 0, 0, 0, 0, 0, 0, 1, 0, 0, 0, 0, 0, 0, 0, 0, 0, 1, 0, 0,\n",
       "       0, 0, 0, 0, 0, 0, 0, 0, 0, 1, 0, 0, 0, 0, 0, 1, 0, 0, 0, 0, 0, 0,\n",
       "       0, 0, 0, 0, 0, 0, 1, 0, 0, 0, 0, 0, 0, 0, 0, 0, 0, 0, 0, 1, 0, 0,\n",
       "       0, 0, 0, 0, 0, 1, 0, 0, 1, 0, 0, 0, 0, 0, 1, 0, 0, 0, 0, 0, 0, 0,\n",
       "       0, 0, 0, 0, 0, 1, 1, 0, 0, 0, 0, 0, 0, 0, 1, 0, 0, 0, 0, 0, 0, 0,\n",
       "       1, 0, 0, 1, 0, 0, 1, 0, 0, 0, 1, 0, 0, 1, 0, 0, 0, 0, 1, 0, 0, 0,\n",
       "       0, 1, 0, 0, 1, 0, 1, 0, 1, 0, 1, 0, 1, 1, 0, 1, 0, 1, 0, 0, 0, 1,\n",
       "       0, 1, 1, 1, 0, 0, 1, 1, 0, 1, 1, 0, 1, 1, 0, 1, 0, 0, 0, 1, 1, 0,\n",
       "       1, 1, 0, 1, 0, 1, 0, 1, 0, 0, 1, 1, 0, 1, 0, 0, 1, 1, 0, 1, 1, 0,\n",
       "       1, 1, 0, 0, 1, 0, 0, 1, 1, 1, 1, 1, 0, 1, 1, 1, 1, 0, 1, 1, 0, 1,\n",
       "       0, 1, 0, 1, 1, 1, 1, 0, 0, 0, 1, 1, 0, 1, 1, 1, 1, 1, 0, 0, 0, 1,\n",
       "       1, 0, 0, 1, 0, 1, 0, 1, 1, 0, 1, 0, 1, 1, 0, 1, 1, 0, 0, 0, 1, 1,\n",
       "       0, 1, 0, 0, 1, 0, 1, 0, 0, 1, 1, 0, 0, 1, 1, 0, 1, 1, 0, 0, 1, 0,\n",
       "       1, 0, 1, 1, 1, 0, 1, 0, 1, 1, 1, 0, 1, 1, 1, 1, 0, 1, 1, 1, 0, 1,\n",
       "       0, 1, 0, 0, 1, 1, 0, 1, 1, 1, 1, 1, 1, 0, 1, 1, 1, 1, 1, 1, 0, 1,\n",
       "       1, 1, 0, 1], dtype=int64)"
      ]
     },
     "execution_count": 6,
     "metadata": {},
     "output_type": "execute_result"
    }
   ],
   "source": [
    "y = dataset.iloc[:, -1].values\n",
    "y"
   ]
  },
  {
   "cell_type": "markdown",
   "id": "pleasant-parts",
   "metadata": {},
   "source": [
    "# Data manipulation"
   ]
  },
  {
   "cell_type": "markdown",
   "id": "empty-billy",
   "metadata": {},
   "source": [
    "### Splitting the dataset into the Training set and Test set. \n",
    "\n",
    "The dataset will be randomly splitted into training set (75%) and test set (25%)"
   ]
  },
  {
   "cell_type": "code",
   "execution_count": 7,
   "id": "spare-friendship",
   "metadata": {},
   "outputs": [],
   "source": [
    "from sklearn.model_selection import train_test_split\n",
    "X_train, X_test, y_train, y_test = train_test_split(X, y, test_size = 0.25, random_state = 0)"
   ]
  },
  {
   "cell_type": "code",
   "execution_count": 8,
   "id": "gentle-subscriber",
   "metadata": {},
   "outputs": [
    {
     "data": {
      "text/plain": [
       "array([[    30,  87000],\n",
       "       [    38,  50000],\n",
       "       [    35,  75000],\n",
       "       [    30,  79000],\n",
       "       [    35,  50000],\n",
       "       [    27,  20000],\n",
       "       [    31,  15000],\n",
       "       [    36, 144000],\n",
       "       [    18,  68000],\n",
       "       [    47,  43000],\n",
       "       [    30,  49000],\n",
       "       [    28,  55000],\n",
       "       [    37,  55000],\n",
       "       [    39,  77000],\n",
       "       [    20,  86000],\n",
       "       [    32, 117000],\n",
       "       [    37,  77000],\n",
       "       [    19,  85000],\n",
       "       [    55, 130000],\n",
       "       [    35,  22000],\n",
       "       [    35,  47000],\n",
       "       [    47, 144000],\n",
       "       [    41,  51000],\n",
       "       [    47, 105000],\n",
       "       [    23,  28000],\n",
       "       [    49, 141000],\n",
       "       [    28,  87000],\n",
       "       [    29,  80000],\n",
       "       [    37,  62000],\n",
       "       [    32,  86000],\n",
       "       [    21,  88000],\n",
       "       [    37,  79000],\n",
       "       [    57,  60000],\n",
       "       [    37,  53000],\n",
       "       [    24,  58000],\n",
       "       [    18,  52000],\n",
       "       [    22,  81000],\n",
       "       [    34,  43000],\n",
       "       [    31,  34000],\n",
       "       [    49,  36000],\n",
       "       [    27,  88000],\n",
       "       [    41,  52000],\n",
       "       [    27,  84000],\n",
       "       [    45,  30000],\n",
       "       [    43, 112000],\n",
       "       [    27,  58000],\n",
       "       [    37,  80000],\n",
       "       [    52,  90000],\n",
       "       [    26,  30000],\n",
       "       [    49,  86000],\n",
       "       [    57, 122000],\n",
       "       [    34,  25000],\n",
       "       [    35,  57000],\n",
       "       [    34, 115000],\n",
       "       [    59,  88000],\n",
       "       [    45,  32000],\n",
       "       [    29,  83000],\n",
       "       [    26,  80000],\n",
       "       [    49,  28000],\n",
       "       [    23,  20000],\n",
       "       [    32,  18000],\n",
       "       [    60,  42000],\n",
       "       [    29,  89000],\n",
       "       [    36,  99000],\n",
       "       [    19,  26000],\n",
       "       [    60,  83000],\n",
       "       [    24,  89000],\n",
       "       [    27,  58000],\n",
       "       [    40,  47000],\n",
       "       [    42,  70000],\n",
       "       [    32, 150000],\n",
       "       [    35,  77000],\n",
       "       [    22,  63000],\n",
       "       [    45,  22000],\n",
       "       [    27,  89000],\n",
       "       [    18,  82000],\n",
       "       [    42,  79000],\n",
       "       [    40,  60000],\n",
       "       [    53,  34000],\n",
       "       [    47, 107000],\n",
       "       [    58, 144000],\n",
       "       [    59,  83000],\n",
       "       [    24,  55000],\n",
       "       [    26,  35000],\n",
       "       [    58,  38000],\n",
       "       [    42,  80000],\n",
       "       [    40,  75000],\n",
       "       [    59, 130000],\n",
       "       [    46,  41000],\n",
       "       [    41,  60000],\n",
       "       [    42,  64000],\n",
       "       [    37, 146000],\n",
       "       [    23,  48000],\n",
       "       [    25,  33000],\n",
       "       [    24,  84000],\n",
       "       [    27,  96000],\n",
       "       [    23,  63000],\n",
       "       [    48,  33000],\n",
       "       [    48,  90000],\n",
       "       [    42, 104000]], dtype=int64)"
      ]
     },
     "execution_count": 8,
     "metadata": {},
     "output_type": "execute_result"
    }
   ],
   "source": [
    "X_test"
   ]
  },
  {
   "cell_type": "markdown",
   "id": "incorporated-italian",
   "metadata": {},
   "source": [
    "### Feature Scaling\n",
    "\n",
    "Standardize features by removing the mean and scaling to unit variance\n",
    "\n",
    "The standard score of a sample x is calculated as:\n",
    "\n",
    "z = (x - u) / s\n",
    "\n",
    "where: \n",
    "u = the mean of the training samples \n",
    "s = the standard deviation of the training sample"
   ]
  },
  {
   "cell_type": "code",
   "execution_count": 9,
   "id": "least-drive",
   "metadata": {},
   "outputs": [],
   "source": [
    "from sklearn.preprocessing import StandardScaler\n",
    "sc_X = StandardScaler()\n",
    "X_train = sc_X.fit_transform(X_train)\n",
    "X_test = sc_X.transform(X_test)"
   ]
  },
  {
   "cell_type": "code",
   "execution_count": 10,
   "id": "persistent-tunisia",
   "metadata": {},
   "outputs": [
    {
     "data": {
      "text/plain": [
       "array([[-0.81050083,  0.50499194],\n",
       "       [-0.01556745, -0.56801926],\n",
       "       [-0.31366747,  0.15698831],\n",
       "       [-0.81050083,  0.27298952],\n",
       "       [-0.31366747, -0.56801926],\n",
       "       [-1.10860085, -1.43802834],\n",
       "       [-0.71113416, -1.58302986],\n",
       "       [-0.21430079,  2.15800919],\n",
       "       [-2.00290091, -0.04601381],\n",
       "       [ 0.87873261, -0.77102138],\n",
       "       [-0.81050083, -0.59701956],\n",
       "       [-1.00923418, -0.42301775],\n",
       "       [-0.11493412, -0.42301775],\n",
       "       [ 0.08379923,  0.21498891],\n",
       "       [-1.80416757,  0.47599163],\n",
       "       [-0.61176749,  1.37500102],\n",
       "       [-0.11493412,  0.21498891],\n",
       "       [-1.90353424,  0.44699133],\n",
       "       [ 1.673666  ,  1.75200495],\n",
       "       [-0.31366747, -1.38002774],\n",
       "       [-0.31366747, -0.65502017],\n",
       "       [ 0.87873261,  2.15800919],\n",
       "       [ 0.28253257, -0.53901896],\n",
       "       [ 0.87873261,  1.02699739],\n",
       "       [-1.50606755, -1.20602592],\n",
       "       [ 1.07746596,  2.07100828],\n",
       "       [-1.00923418,  0.50499194],\n",
       "       [-0.90986751,  0.30198982],\n",
       "       [-0.11493412, -0.22001563],\n",
       "       [-0.61176749,  0.47599163],\n",
       "       [-1.70480089,  0.53399224],\n",
       "       [-0.11493412,  0.27298952],\n",
       "       [ 1.87239935, -0.27801623],\n",
       "       [-0.11493412, -0.48101835],\n",
       "       [-1.40670087, -0.33601684],\n",
       "       [-2.00290091, -0.51001866],\n",
       "       [-1.60543422,  0.33099012],\n",
       "       [-0.41303414, -0.77102138],\n",
       "       [-0.71113416, -1.0320241 ],\n",
       "       [ 1.07746596, -0.9740235 ],\n",
       "       [-1.10860085,  0.53399224],\n",
       "       [ 0.28253257, -0.51001866],\n",
       "       [-1.10860085,  0.41799103],\n",
       "       [ 0.67999927, -1.14802532],\n",
       "       [ 0.48126592,  1.2299995 ],\n",
       "       [-1.10860085, -0.33601684],\n",
       "       [-0.11493412,  0.30198982],\n",
       "       [ 1.37556598,  0.59199285],\n",
       "       [-1.20796753, -1.14802532],\n",
       "       [ 1.07746596,  0.47599163],\n",
       "       [ 1.87239935,  1.52000253],\n",
       "       [-0.41303414, -1.29302683],\n",
       "       [-0.31366747, -0.36501714],\n",
       "       [-0.41303414,  1.31700041],\n",
       "       [ 2.07113269,  0.53399224],\n",
       "       [ 0.67999927, -1.09002471],\n",
       "       [-0.90986751,  0.38899073],\n",
       "       [-1.20796753,  0.30198982],\n",
       "       [ 1.07746596, -1.20602592],\n",
       "       [-1.50606755, -1.43802834],\n",
       "       [-0.61176749, -1.49602895],\n",
       "       [ 2.17049937, -0.80002168],\n",
       "       [-0.90986751,  0.56299254],\n",
       "       [-0.21430079,  0.85299557],\n",
       "       [-1.90353424, -1.26402653],\n",
       "       [ 2.17049937,  0.38899073],\n",
       "       [-1.40670087,  0.56299254],\n",
       "       [-1.10860085, -0.33601684],\n",
       "       [ 0.1831659 , -0.65502017],\n",
       "       [ 0.38189925,  0.01198679],\n",
       "       [-0.61176749,  2.33201101],\n",
       "       [-0.31366747,  0.21498891],\n",
       "       [-1.60543422, -0.19101533],\n",
       "       [ 0.67999927, -1.38002774],\n",
       "       [-1.10860085,  0.56299254],\n",
       "       [-2.00290091,  0.35999042],\n",
       "       [ 0.38189925,  0.27298952],\n",
       "       [ 0.1831659 , -0.27801623],\n",
       "       [ 1.47493265, -1.0320241 ],\n",
       "       [ 0.87873261,  1.08499799],\n",
       "       [ 1.97176602,  2.15800919],\n",
       "       [ 2.07113269,  0.38899073],\n",
       "       [-1.40670087, -0.42301775],\n",
       "       [-1.20796753, -1.0030238 ],\n",
       "       [ 1.97176602, -0.91602289],\n",
       "       [ 0.38189925,  0.30198982],\n",
       "       [ 0.1831659 ,  0.15698831],\n",
       "       [ 2.07113269,  1.75200495],\n",
       "       [ 0.77936594, -0.82902199],\n",
       "       [ 0.28253257, -0.27801623],\n",
       "       [ 0.38189925, -0.16201502],\n",
       "       [-0.11493412,  2.21600979],\n",
       "       [-1.50606755, -0.62601987],\n",
       "       [-1.3073342 , -1.06102441],\n",
       "       [-1.40670087,  0.41799103],\n",
       "       [-1.10860085,  0.76599466],\n",
       "       [-1.50606755, -0.19101533],\n",
       "       [ 0.97809929, -1.06102441],\n",
       "       [ 0.97809929,  0.59199285],\n",
       "       [ 0.38189925,  0.99799708]])"
      ]
     },
     "execution_count": 10,
     "metadata": {},
     "output_type": "execute_result"
    }
   ],
   "source": [
    "X_test"
   ]
  },
  {
   "cell_type": "markdown",
   "id": "american-converter",
   "metadata": {},
   "source": [
    "# Training "
   ]
  },
  {
   "cell_type": "markdown",
   "id": "excess-malaysia",
   "metadata": {},
   "source": [
    " Fitting  Logistic Regression to the Training set"
   ]
  },
  {
   "cell_type": "code",
   "execution_count": 11,
   "id": "collectible-league",
   "metadata": {},
   "outputs": [
    {
     "data": {
      "text/plain": [
       "LogisticRegression(random_state=0)"
      ]
     },
     "execution_count": 11,
     "metadata": {},
     "output_type": "execute_result"
    }
   ],
   "source": [
    "from sklearn.linear_model import LogisticRegression # import the  Logistic Regression class from its lib\n",
    "classifier = LogisticRegression (random_state=0)\n",
    "classifier.fit(X_train,y_train)"
   ]
  },
  {
   "cell_type": "markdown",
   "id": "statewide-poverty",
   "metadata": {},
   "source": [
    "# Predicting the Test set Result "
   ]
  },
  {
   "cell_type": "code",
   "execution_count": 12,
   "id": "breathing-suspect",
   "metadata": {},
   "outputs": [
    {
     "data": {
      "text/plain": [
       "array([0, 0, 0, 0, 0, 0, 0, 1, 0, 1, 0, 0, 0, 0, 0, 0, 0, 0, 1, 0, 0, 1,\n",
       "       0, 1, 0, 1, 0, 0, 0, 0, 0, 0, 1, 0, 0, 0, 0, 0, 0, 1, 0, 0, 0, 0,\n",
       "       1, 0, 0, 1, 0, 1, 1, 0, 0, 0, 1, 0, 0, 0, 0, 0, 0, 1, 0, 0, 0, 1,\n",
       "       0, 0, 0, 0, 1, 0, 0, 0, 0, 0, 1, 0, 1, 1, 1, 1, 0, 0, 1, 1, 0, 1,\n",
       "       0, 0, 0, 1, 0, 0, 0, 0, 0, 0, 1, 1], dtype=int64)"
      ]
     },
     "execution_count": 12,
     "metadata": {},
     "output_type": "execute_result"
    }
   ],
   "source": [
    "y_pred = classifier.predict(X_test)\n",
    "y_pred\n",
    "\n",
    "# 0 -- means that that customer did NOT purchase the said item\n",
    "# 1 -- while means that that customer purchased the said item\n"
   ]
  },
  {
   "cell_type": "markdown",
   "id": "severe-portfolio",
   "metadata": {},
   "source": [
    "# Model Evaluation \n",
    "\n",
    "Evaluating the logistic regression model using confusion matrix\n"
   ]
  },
  {
   "cell_type": "code",
   "execution_count": 13,
   "id": "lesbian-frontier",
   "metadata": {},
   "outputs": [
    {
     "name": "stdout",
     "output_type": "stream",
     "text": [
      "Prediction Accuracy: 0.82 \n",
      "\n",
      "Confusion Matrix:\n",
      " [[58  3]\n",
      " [15 24]]\n"
     ]
    }
   ],
   "source": [
    "from sklearn.metrics import confusion_matrix, accuracy_score # this function compares the predicted results and the actual result, \n",
    "cm = confusion_matrix (y_test, y_pred) \n",
    "\n",
    "print(\"Prediction Accuracy:\",accuracy_score(y_test, y_pred), '\\n\\nConfusion Matrix:\\n',cm)"
   ]
  },
  {
   "cell_type": "code",
   "execution_count": 14,
   "id": "sexual-shelter",
   "metadata": {},
   "outputs": [
    {
     "data": {
      "image/png": "[encoded data removed]",
      "text/plain": [
       "<Figure size 432x288 with 2 Axes>"
      ]
     },
     "metadata": {
      "needs_background": "light"
     },
     "output_type": "display_data"
    }
   ],
   "source": [
    "from sklearn.metrics import plot_confusion_matrix\n",
    "plot_confusion_matrix(classifier, X_test, y_test)  \n",
    "plt.show() "
   ]
  },
  {
   "cell_type": "markdown",
   "id": "prescription-universal",
   "metadata": {},
   "source": [
    "# Visualizing the training set result"
   ]
  },
  {
   "cell_type": "code",
   "execution_count": 15,
   "id": "emerging-conducting",
   "metadata": {},
   "outputs": [
    {
     "name": "stderr",
     "output_type": "stream",
     "text": [
      "*c* argument looks like a single numeric RGB or RGBA sequence, which should be avoided as value-mapping will have precedence in case its length matches with *x* & *y*.  Please use the *color* keyword-argument or provide a 2-D array with a single row if you intend to specify the same RGB or RGBA value for all points.\n",
      "*c* argument looks like a single numeric RGB or RGBA sequence, which should be avoided as value-mapping will have precedence in case its length matches with *x* & *y*.  Please use the *color* keyword-argument or provide a 2-D array with a single row if you intend to specify the same RGB or RGBA value for all points.\n"
     ]
    },
    {
     "data": {
      "image/png": "[encoded data removed]",
      "text/plain": [
       "<Figure size 432x288 with 1 Axes>"
      ]
     },
     "metadata": {
      "needs_background": "light"
     },
     "output_type": "display_data"
    }
   ],
   "source": [
    "from matplotlib.colors import ListedColormap\n",
    "X_set, y_set = X_train, y_train\n",
    "X1, X2 = np.meshgrid(np.arange(start = X_set[:, 0].min() - 1, stop = X_set[:, 0].max() + 1, step = 0.01),\n",
    "                     np.arange(start = X_set[:, 1].min() - 1, stop = X_set[:, 1].max() + 1, step = 0.01))\n",
    "plt.contourf(X1, X2, classifier.predict(np.array([X1.ravel(), X2.ravel()]).T).reshape(X1.shape),\n",
    "             alpha = 0.75, cmap = ListedColormap(('red', 'green')))\n",
    "plt.xlim(X1.min(), X1.max())\n",
    "plt.ylim(X2.min(), X2.max())\n",
    "for i, j in enumerate(np.unique(y_set)):\n",
    "    plt.scatter(X_set[y_set == j, 0], X_set[y_set == j, 1],\n",
    "                c = ListedColormap(('red', 'green'))(i), label = j)\n",
    "plt.title('Classifier (Training set)')\n",
    "plt.xlabel('Age')\n",
    "plt.ylabel('Estimated Salary')\n",
    "plt.legend()\n",
    "plt.show()"
   ]
  },
  {
   "cell_type": "markdown",
   "id": "overhead-technology",
   "metadata": {},
   "source": [
    "\n",
    "# Visualising the Test set results"
   ]
  },
  {
   "cell_type": "code",
   "execution_count": 16,
   "id": "federal-repair",
   "metadata": {},
   "outputs": [
    {
     "name": "stderr",
     "output_type": "stream",
     "text": [
      "*c* argument looks like a single numeric RGB or RGBA sequence, which should be avoided as value-mapping will have precedence in case its length matches with *x* & *y*.  Please use the *color* keyword-argument or provide a 2-D array with a single row if you intend to specify the same RGB or RGBA value for all points.\n",
      "*c* argument looks like a single numeric RGB or RGBA sequence, which should be avoided as value-mapping will have precedence in case its length matches with *x* & *y*.  Please use the *color* keyword-argument or provide a 2-D array with a single row if you intend to specify the same RGB or RGBA value for all points.\n"
     ]
    },
    {
     "data": {
      "image/png": "[encoded data removed]",
      "text/plain": [
       "<Figure size 432x288 with 1 Axes>"
      ]
     },
     "metadata": {
      "needs_background": "light"
     },
     "output_type": "display_data"
    }
   ],
   "source": [
    "from matplotlib.colors import ListedColormap\n",
    "X_set, y_set = X_test, y_test\n",
    "X1, X2 = np.meshgrid(np.arange(start = X_set[:, 0].min() - 1, stop = X_set[:, 0].max() + 1, step = 0.01),\n",
    "                     np.arange(start = X_set[:, 1].min() - 1, stop = X_set[:, 1].max() + 1, step = 0.01))\n",
    "plt.contourf(X1, X2, classifier.predict(np.array([X1.ravel(), X2.ravel()]).T).reshape(X1.shape),\n",
    "             alpha = 0.75, cmap = ListedColormap(('red', 'green')))\n",
    "plt.xlim(X1.min(), X1.max())\n",
    "plt.ylim(X2.min(), X2.max())\n",
    "for i, j in enumerate(np.unique(y_set)):\n",
    "    plt.scatter(X_set[y_set == j, 0], X_set[y_set == j, 1],\n",
    "                c = ListedColormap(('red', 'green'))(i), label = j)\n",
    "plt.title('Classifier (Test set)')\n",
    "plt.xlabel('Age')\n",
    "plt.ylabel('Estimated Salary')\n",
    "plt.legend()\n",
    "plt.show()"
   ]
  },
  {
   "cell_type": "markdown",
   "id": "realistic-aircraft",
   "metadata": {},
   "source": [
    "# New Predictions\n",
    "\n",
    "Predicting whether a customer will purchase an item or not given his/her age and estimated salary"
   ]
  },
  {
   "cell_type": "code",
   "execution_count": 17,
   "id": "infinite-reservation",
   "metadata": {},
   "outputs": [
    {
     "name": "stdout",
     "output_type": "stream",
     "text": [
      "This customer will NOT purchase the item.\n",
      "Predicted class =  0\n"
     ]
    }
   ],
   "source": [
    "customer_age = 26\n",
    "customer_estimated_salary = 60282\n",
    "X_new = [[customer_age, customer_estimated_salary]]\n",
    "\n",
    "# applying the StandardScaler \n",
    "X_new = sc_X.transform(X_new)\n",
    "\n",
    "\n",
    "\n",
    "y_new = classifier.predict(X_new)\n",
    "y_new[0]\n",
    "\n",
    "if y_new[0] == 0:\n",
    "    print('This customer will NOT purchase the item.\\nPredicted class = ',y_new[0])\n",
    "elif y_new[0] == 1:\n",
    "    print('This customer WILL purchase the item.\\nPredicted class = ',y_new[0])\n",
    "else:\n",
    "    print('Something is not right.')\n",
    "\n"
   ]
  },
  {
   "cell_type": "code",
   "execution_count": null,
   "id": "surrounded-young",
   "metadata": {},
   "outputs": [],
   "source": []
  }
 ],
 "metadata": {
  "kernelspec": {
   "display_name": "Python 3",
   "language": "python",
   "name": "python3"
  },
  "language_info": {
   "codemirror_mode": {
    "name": "ipython",
    "version": 3
   },
   "file_extension": ".py",
   "mimetype": "text/x-python",
   "name": "python",
   "nbconvert_exporter": "python",
   "pygments_lexer": "ipython3",
   "version": "3.8.8"
  }
 },
 "nbformat": 4,
 "nbformat_minor": 5
}
